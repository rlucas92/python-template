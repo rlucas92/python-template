{
 "cells": [
  {
   "cell_type": "code",
   "execution_count": 20,
   "id": "7279804b",
   "metadata": {
    "vscode": {
     "languageId": "shellscript"
    }
   },
   "outputs": [
    {
     "name": "stdout",
     "output_type": "stream",
     "text": [
      "Requirement already satisfied: ipywidgets in /opt/miniconda3/envs/python-template/lib/python3.13/site-packages (8.1.7)\n",
      "Requirement already satisfied: jinja2 in /opt/miniconda3/envs/python-template/lib/python3.13/site-packages (3.1.6)\n",
      "Requirement already satisfied: ipython in /opt/miniconda3/envs/python-template/lib/python3.13/site-packages (9.4.0)\n",
      "Requirement already satisfied: comm>=0.1.3 in /opt/miniconda3/envs/python-template/lib/python3.13/site-packages (from ipywidgets) (0.2.2)\n",
      "Requirement already satisfied: traitlets>=4.3.1 in /opt/miniconda3/envs/python-template/lib/python3.13/site-packages (from ipywidgets) (5.14.3)\n",
      "Requirement already satisfied: widgetsnbextension~=4.0.14 in /opt/miniconda3/envs/python-template/lib/python3.13/site-packages (from ipywidgets) (4.0.14)\n",
      "Requirement already satisfied: jupyterlab_widgets~=3.0.15 in /opt/miniconda3/envs/python-template/lib/python3.13/site-packages (from ipywidgets) (3.0.15)\n",
      "Requirement already satisfied: MarkupSafe>=2.0 in /opt/miniconda3/envs/python-template/lib/python3.13/site-packages (from jinja2) (3.0.2)\n",
      "Requirement already satisfied: decorator in /opt/miniconda3/envs/python-template/lib/python3.13/site-packages (from ipython) (5.2.1)\n",
      "Requirement already satisfied: ipython-pygments-lexers in /opt/miniconda3/envs/python-template/lib/python3.13/site-packages (from ipython) (1.1.1)\n",
      "Requirement already satisfied: jedi>=0.16 in /opt/miniconda3/envs/python-template/lib/python3.13/site-packages (from ipython) (0.19.2)\n",
      "Requirement already satisfied: matplotlib-inline in /opt/miniconda3/envs/python-template/lib/python3.13/site-packages (from ipython) (0.1.7)\n",
      "Requirement already satisfied: pexpect>4.3 in /opt/miniconda3/envs/python-template/lib/python3.13/site-packages (from ipython) (4.9.0)\n",
      "Requirement already satisfied: prompt_toolkit<3.1.0,>=3.0.41 in /opt/miniconda3/envs/python-template/lib/python3.13/site-packages (from ipython) (3.0.51)\n",
      "Requirement already satisfied: pygments>=2.4.0 in /opt/miniconda3/envs/python-template/lib/python3.13/site-packages (from ipython) (2.19.2)\n",
      "Requirement already satisfied: stack_data in /opt/miniconda3/envs/python-template/lib/python3.13/site-packages (from ipython) (0.6.3)\n",
      "Requirement already satisfied: wcwidth in /opt/miniconda3/envs/python-template/lib/python3.13/site-packages (from prompt_toolkit<3.1.0,>=3.0.41->ipython) (0.2.13)\n",
      "Requirement already satisfied: parso<0.9.0,>=0.8.4 in /opt/miniconda3/envs/python-template/lib/python3.13/site-packages (from jedi>=0.16->ipython) (0.8.4)\n",
      "Requirement already satisfied: ptyprocess>=0.5 in /opt/miniconda3/envs/python-template/lib/python3.13/site-packages (from pexpect>4.3->ipython) (0.7.0)\n",
      "Requirement already satisfied: executing>=1.2.0 in /opt/miniconda3/envs/python-template/lib/python3.13/site-packages (from stack_data->ipython) (2.2.0)\n",
      "Requirement already satisfied: asttokens>=2.1.0 in /opt/miniconda3/envs/python-template/lib/python3.13/site-packages (from stack_data->ipython) (3.0.0)\n",
      "Requirement already satisfied: pure_eval in /opt/miniconda3/envs/python-template/lib/python3.13/site-packages (from stack_data->ipython) (0.2.3)\n",
      "Note: you may need to restart the kernel to use updated packages.\n"
     ]
    }
   ],
   "source": [
    "pip install ipywidgets jinja2 ipython"
   ]
  },
  {
   "cell_type": "code",
   "execution_count": null,
   "id": "842c9d50",
   "metadata": {},
   "outputs": [],
   "source": [
    "from jinja2 import Environment, select_autoescape, FileSystemLoader, meta\n",
    "from ipywidgets import widgets\n",
    "from IPython.display import display, display_markdown\n",
    "from IPython.display import Markdown\n",
    "from jinja2 import Environment, FileSystemLoader, select_autoescape, meta, nodes\n",
    "from jinja2.visitor import NodeVisitor"
   ]
  },
  {
   "cell_type": "code",
   "execution_count": 116,
   "id": "148ed53a",
   "metadata": {},
   "outputs": [],
   "source": [
    "\n",
    "def get_default_env():\n",
    "    return Environment(\n",
    "        loader=FileSystemLoader('./templates'),\n",
    "        autoescape=select_autoescape()\n",
    "    )\n",
    "env = get_default_env()"
   ]
  },
  {
   "cell_type": "code",
   "execution_count": 135,
   "id": "3bd23b12",
   "metadata": {},
   "outputs": [],
   "source": [
    "\n",
    "\n",
    "class DefaultValueExtractor(NodeVisitor):\n",
    "    \"\"\"Extract default values from Jinja2 AST\"\"\"\n",
    "    \n",
    "    def __init__(self):\n",
    "        self.defaults = {}\n",
    "        self.assignments = {}\n",
    "    \n",
    "    def visit_Filter(self, node):\n",
    "        \"\"\"Visit filter nodes to find | default() usage\"\"\"\n",
    "        if isinstance(node.node, nodes.Name) and node.name in ('default', 'd'):\n",
    "            var_name = node.node.name\n",
    "            \n",
    "            # Extract the default value from filter arguments\n",
    "            if node.args:\n",
    "                if isinstance(node.args[0], nodes.Const):\n",
    "                    self.defaults[var_name] = node.args[0].value\n",
    "                elif isinstance(node.args[0], nodes.Name):\n",
    "                    self.defaults[var_name] = f\"${node.args[0].name}\"  # Reference to another variable\n",
    "        \n",
    "        # Continue visiting child nodes\n",
    "        self.generic_visit(node)\n",
    "    \n",
    "    def visit_Assign(self, node):\n",
    "        \"\"\"Visit assignment nodes to find {% set var = var | default('value') %}\"\"\"\n",
    "        if (isinstance(node.target, nodes.Name) and \n",
    "            isinstance(node.node, nodes.Filter) and \n",
    "            node.node.name in ('default', 'd')):\n",
    "            \n",
    "            var_name = node.target.name\n",
    "            if (isinstance(node.node.node, nodes.Name) and \n",
    "                node.node.node.name == var_name and \n",
    "                node.node.args):\n",
    "                \n",
    "                if isinstance(node.node.args[0], nodes.Const):\n",
    "                    self.assignments[var_name] = node.node.args[0].value\n",
    "                elif isinstance(node.node.args[0], nodes.Add):\n",
    "                    if isinstance(node.node.args[0].left, nodes.Const):\n",
    "                        left = node.node.args[0].left.value\n",
    "                    else:\n",
    "                        left = '${' + node.node.args[0].left.name + '}'\n",
    "                    if isinstance(node.node.args[0].right, nodes.Const):\n",
    "                        right = node.node.args[0].right.value\n",
    "                    else:\n",
    "                        right = '${' + node.node.args[0].right.name + '}'\n",
    "\n",
    "\n",
    "                    \n",
    "                    self.assignments[var_name] = f\"{left}{right}\"\n",
    "\n",
    "        \n",
    "        self.generic_visit(node)\n",
    "\n",
    "def extract_defaults_ast(template_content, env):\n",
    "    \"\"\"Extract defaults using AST parsing\"\"\"\n",
    "    try:\n",
    "        ast = env.parse(template_content)\n",
    "        extractor = DefaultValueExtractor()\n",
    "        extractor.visit(ast)\n",
    "        \n",
    "        # Combine direct defaults and assignments\n",
    "        all_defaults = {**extractor.defaults, **extractor.assignments}\n",
    "        return all_defaults\n",
    "    except Exception as e:\n",
    "        print(f\"AST parsing failed: {e}\")\n",
    "        return {}\n",
    "    \n",
    "def get_template_defaults(template_path, env=None):\n",
    "    \"\"\"\n",
    "    Get all default values for a template\n",
    "    \n",
    "    Args:\n",
    "        template_path: Path to the template file\n",
    "        env: Jinja2 environment (optional)\n",
    "    \n",
    "    Returns:\n",
    "        dict: Variable names mapped to their default values\n",
    "    \"\"\"\n",
    "    if env is None:\n",
    "        env = get_default_env()\n",
    "    \n",
    "    try:\n",
    "        # Get template source\n",
    "        template_source = env.loader.get_source(env, template_path)[0]\n",
    "        \n",
    "        # Try AST method first (more accurate)\n",
    "        defaults = extract_defaults_ast(template_source, env)\n",
    "\n",
    "        required_vars = meta.find_undeclared_variables(env.parse(template_source))\n",
    "        defaults.update({var: None for var in required_vars if var not in defaults})\n",
    "\n",
    "        \n",
    "        return defaults\n",
    "        \n",
    "    except Exception as e:\n",
    "        print(f\"Error extracting defaults from {template_path}: {e}\")\n",
    "        return {}"
   ]
  },
  {
   "cell_type": "code",
   "execution_count": 118,
   "id": "8b28441d",
   "metadata": {},
   "outputs": [
    {
     "data": {
      "text/plain": [
       "<Template 'pyproject.toml.jinja'>"
      ]
     },
     "execution_count": 118,
     "metadata": {},
     "output_type": "execute_result"
    }
   ],
   "source": [
    "template = env.get_template('pyproject.toml.jinja')\n",
    "template"
   ]
  },
  {
   "cell_type": "code",
   "execution_count": 140,
   "id": "9d49bf61",
   "metadata": {},
   "outputs": [
    {
     "data": {
      "text/plain": [
       "{'PROJECT_NAME': 'python-boilerplate',\n",
       " 'PACKAGE_NAME': 'python_boilerplate',\n",
       " 'AUTHOR_NAME': 'RJ',\n",
       " 'AUTHOR_EMAIL': 'rjlucas92@gmail.com',\n",
       " 'GITHUB_REPO_URL': 'https://github.com/rjlucas92/${PROJECT_NAME}'}"
      ]
     },
     "execution_count": 140,
     "metadata": {},
     "output_type": "execute_result"
    }
   ],
   "source": [
    "get_template_defaults('pyproject.toml.jinja', env)"
   ]
  },
  {
   "cell_type": "code",
   "execution_count": 101,
   "id": "963922de",
   "metadata": {},
   "outputs": [
    {
     "data": {
      "text/plain": [
       "('[build-system]\\nrequires = [\"setuptools>=64.0\", \"wheel\"]\\nbuild-backend = \"setuptools.build_meta\"\\n\\n[project]\\nname = \"{{PROJECT_NAME | default(\\'python-boilerplate\\')}}\"\\ndynamic = [\"version\"]\\nauthors = [\\n    {name = \"{{AUTHOR_NAME}}\", email = \"{{AUTHOR_EMAIL}}\"},\\n]\\n# Optional: Add a project description\\ndescription = \"\"\\nreadme = \"README.md\"\\nrequires-python = \">=3.13\"\\nlicense = {text = \"MIT\"}\\nclassifiers = [\\n    \"Development Status :: 3 - Alpha\",\\n    \"Intended Audience :: Developers\",\\n    \"License :: OSI Approved :: MIT License\",\\n    \"Programming Language :: Python :: 3\",\\n    \"Programming Language :: Python :: 3.13\",\\n    \"Operating System :: OS Independent\",\\n]\\ndependencies = [\\n    # Add your package dependencies here\\n]\\n\\n[project.urls]\\n\"Homepage\" = \"{{GITHUB_REPO_URL}}\"\\n\"Bug Tracker\" = \"{{GITHUB_REPO_URL}}/issues\"\\n\"Repository\" = \"{{GITHUB_REPO_URL}}\"\\n\\n[tool.setuptools.dynamic]\\nversion = {attr = \"{{PACKAGE_NAME}}.version.__VERSION__\"}\\n\\n[tool.setuptools.packages.find]\\nwhere = [\".\"]\\ninclude = [\"{{PACKAGE_NAME}}*\"]\\nexclude = [\"tests*\"]\\n\\n# Optional: Development dependencies\\n[project.optional-dependencies]\\ndev = [\\n    \"pytest\",\"black\"\\n]\\ntest = [\\n    \"pytest\",\\n]\\n\\n# Optional: Black formatter configuration\\n[tool.black]\\nline-length = 88\\ntarget-version = [\"py313\"]\\n\\n# Optional: pytest configuration\\n[tool.pytest.ini_options]\\ntestpaths = [\"tests\"]\\npython_files = [\"test_*.py\", \"*_test.py\"]',\n",
       " 'templates/pyproject.toml.jinja',\n",
       " <function jinja2.loaders.FileSystemLoader.get_source.<locals>.uptodate() -> bool>)"
      ]
     },
     "execution_count": 101,
     "metadata": {},
     "output_type": "execute_result"
    }
   ],
   "source": [
    "env.loader.get_source(env, 'pyproject.toml.jinja')"
   ]
  },
  {
   "cell_type": "code",
   "execution_count": 102,
   "id": "6a408b6a",
   "metadata": {},
   "outputs": [
    {
     "data": {
      "text/plain": [
       "{'AUTHOR_EMAIL',\n",
       " 'AUTHOR_NAME',\n",
       " 'GITHUB_REPO_URL',\n",
       " 'PACKAGE_NAME',\n",
       " 'PROJECT_NAME'}"
      ]
     },
     "execution_count": 102,
     "metadata": {},
     "output_type": "execute_result"
    }
   ],
   "source": [
    "env = Environment(\n",
    "    loader=FileSystemLoader('./templates'),\n",
    "    autoescape=select_autoescape()\n",
    ")\n",
    "meta.find_undeclared_variables(env.parse(env.loader.get_source(env, 'pyproject.toml.jinja')[0]))"
   ]
  },
  {
   "cell_type": "markdown",
   "id": "7cf9178e",
   "metadata": {},
   "source": []
  },
  {
   "cell_type": "code",
   "execution_count": 103,
   "id": "db9313ab",
   "metadata": {},
   "outputs": [
    {
     "data": {
      "text/plain": [
       "['pyproject.toml.jinja']"
      ]
     },
     "execution_count": 103,
     "metadata": {},
     "output_type": "execute_result"
    }
   ],
   "source": [
    "env.list_templates(extensions=['jinja'])"
   ]
  },
  {
   "cell_type": "code",
   "execution_count": 37,
   "id": "095b106a",
   "metadata": {},
   "outputs": [],
   "source": [
    "import functools"
   ]
  },
  {
   "cell_type": "code",
   "execution_count": null,
   "id": "fcb0e98c",
   "metadata": {},
   "outputs": [],
   "source": [
    "def parse_form(template, input_widgets):\n",
    "    template_vars = {\n",
    "        w.description.strip().strip(':'): w.value.strip() or w.placeholder\n",
    "        for w in input_widgets if isinstance(w, widgets.Text)\n",
    "    }\n",
    "    print(template.render(**template_vars))"
   ]
  },
  {
   "cell_type": "code",
   "execution_count": 144,
   "id": "4e11af33",
   "metadata": {},
   "outputs": [
    {
     "data": {
      "text/markdown": [
       "# Template: `templates/pyproject.toml.jinja`"
      ],
      "text/plain": [
       "<IPython.core.display.Markdown object>"
      ]
     },
     "metadata": {},
     "output_type": "display_data"
    },
    {
     "data": {
      "application/vnd.jupyter.widget-view+json": {
       "model_id": "a064cb391c93429a85f2f08684075009",
       "version_major": 2,
       "version_minor": 0
      },
      "text/plain": [
       "Text(value='', description='PROJECT_NAME:', layout=Layout(flex='1 1 auto', width='auto'), placeholder='Ex: pyt…"
      ]
     },
     "metadata": {},
     "output_type": "display_data"
    },
    {
     "data": {
      "application/vnd.jupyter.widget-view+json": {
       "model_id": "edd4378c039f4778bb9599a022fc188b",
       "version_major": 2,
       "version_minor": 0
      },
      "text/plain": [
       "Text(value='', description='PACKAGE_NAME:', layout=Layout(flex='1 1 auto', width='auto'), placeholder='Ex: pyt…"
      ]
     },
     "metadata": {},
     "output_type": "display_data"
    },
    {
     "data": {
      "application/vnd.jupyter.widget-view+json": {
       "model_id": "9971b9dcd94a4bbba7031372de87c1c0",
       "version_major": 2,
       "version_minor": 0
      },
      "text/plain": [
       "Text(value='', description='AUTHOR_NAME:', layout=Layout(flex='1 1 auto', width='auto'), placeholder='Ex: RJ',…"
      ]
     },
     "metadata": {},
     "output_type": "display_data"
    },
    {
     "data": {
      "application/vnd.jupyter.widget-view+json": {
       "model_id": "34b7ec891d124575833f2e21f8b022ab",
       "version_major": 2,
       "version_minor": 0
      },
      "text/plain": [
       "Text(value='', description='AUTHOR_EMAIL:', layout=Layout(flex='1 1 auto', width='auto'), placeholder='Ex: rjl…"
      ]
     },
     "metadata": {},
     "output_type": "display_data"
    },
    {
     "data": {
      "application/vnd.jupyter.widget-view+json": {
       "model_id": "0a6a057728b243a29d47bbbe0c5abbd9",
       "version_major": 2,
       "version_minor": 0
      },
      "text/plain": [
       "Text(value='', description='GITHUB_REPO_URL:', layout=Layout(flex='1 1 auto', width='auto'), placeholder='Ex: …"
      ]
     },
     "metadata": {},
     "output_type": "display_data"
    },
    {
     "data": {
      "application/vnd.jupyter.widget-view+json": {
       "model_id": "31e05d36b70c48ddb60253c8dac8a49d",
       "version_major": 2,
       "version_minor": 0
      },
      "text/plain": [
       "Button(button_style='success', description='Render', icon='check', layout=Layout(width='auto'), style=ButtonSt…"
      ]
     },
     "metadata": {},
     "output_type": "display_data"
    }
   ],
   "source": [
    "env = Environment(\n",
    "    loader=FileSystemLoader('.'),\n",
    "    autoescape=select_autoescape()\n",
    ")\n",
    "\n",
    "for t_path in env.list_templates(extensions=['jinja']):\n",
    "    title = Markdown(f\"# Template: `{t_path}`\")\n",
    "    # variables = meta.find_undeclared_variables(env.parse(env.loader.get_source(env, t_path)))\n",
    "    variables = get_template_defaults(t_path, env)\n",
    "    inputs = [widgets.Text(\n",
    "        value='',\n",
    "        placeholder=f\"Ex: {default_val}\" if default_val else '',\n",
    "        description=f'{var_name}:',\n",
    "        disabled=False,\n",
    "        style={'description_width': 'initial'},\n",
    "            layout=widgets.Layout(\n",
    "        width='auto',    # Auto width\n",
    "        flex='1 1 auto'  # Flexible sizing\n",
    "    ),\n",
    "    ) for var_name, default_val in variables.items()]\n",
    "    inputs.append(widgets.Button(\n",
    "        description='Render',\n",
    "        button_style='success',\n",
    "        icon='check',\n",
    "        layout=widgets.Layout(width='auto'),\n",
    "        style={'description_width': 'initial'},\n",
    "        on_click=functools.partial(parse_form, template=env.get_template(t_path), input_widgets=inputs\n",
    "    )))\n",
    "    display(title, *inputs)\n",
    "    "
   ]
  },
  {
   "cell_type": "code",
   "execution_count": null,
   "id": "5a47b8b8",
   "metadata": {},
   "outputs": [],
   "source": []
  },
  {
   "cell_type": "code",
   "execution_count": 12,
   "id": "9b1b331a",
   "metadata": {},
   "outputs": [
    {
     "data": {
      "application/vnd.jupyter.widget-view+json": {
       "model_id": "40aacaa353484ec295230d90b34c571d",
       "version_major": 2,
       "version_minor": 0
      },
      "text/plain": [
       "Text(value='', description='Author Email:', placeholder='Type something', style=TextStyle(description_width='i…"
      ]
     },
     "metadata": {},
     "output_type": "display_data"
    }
   ],
   "source": [
    "w = widgets.Text(\n",
    "    value='',\n",
    "    placeholder='Type something',\n",
    "    description='Author Email:',\n",
    "    disabled=False,\n",
    "    style={'description_width': 'initial'}\n",
    ")\n",
    "display(*[w])"
   ]
  },
  {
   "cell_type": "code",
   "execution_count": 34,
   "id": "966a7511",
   "metadata": {},
   "outputs": [
    {
     "name": "stdout",
     "output_type": "stream",
     "text": [
      "Help on built-in function strip:\n",
      "\n",
      "strip(chars=None, /) method of builtins.str instance\n",
      "    Return a copy of the string with leading and trailing whitespace removed.\n",
      "\n",
      "    If chars is given and not None, remove characters in chars instead.\n",
      "\n"
     ]
    }
   ],
   "source": [
    "help(\"a\".strip)"
   ]
  },
  {
   "cell_type": "code",
   "execution_count": 36,
   "id": "18278224",
   "metadata": {},
   "outputs": [
    {
     "data": {
      "text/plain": [
       "'PACKAGE_NAME'"
      ]
     },
     "execution_count": 36,
     "metadata": {},
     "output_type": "execute_result"
    }
   ],
   "source": [
    "inputs[0].description.strip().strip(':')"
   ]
  },
  {
   "cell_type": "code",
   "execution_count": 126,
   "id": "090c885e",
   "metadata": {},
   "outputs": [
    {
     "name": "stdout",
     "output_type": "stream",
     "text": [
      "[build-system]\n",
      "requires = [\"setuptools>=64.0\", \"wheel\"]\n",
      "build-backend = \"setuptools.build_meta\"\n",
      "\n",
      "[project]\n",
      "name = \"python-boilerplate\"\n",
      "dynamic = [\"version\"]\n",
      "authors = [\n",
      "    {name = \"RJ\", email = \"rjlucas92@gmail.com\"},\n",
      "]\n",
      "# Optional: Add a project description\n",
      "description = \"\"\n",
      "readme = \"README.md\"\n",
      "requires-python = \">=3.13\"\n",
      "license = {text = \"MIT\"}\n",
      "classifiers = [\n",
      "    \"Development Status :: 3 - Alpha\",\n",
      "    \"Intended Audience :: Developers\",\n",
      "    \"License :: OSI Approved :: MIT License\",\n",
      "    \"Programming Language :: Python :: 3\",\n",
      "    \"Programming Language :: Python :: 3.13\",\n",
      "    \"Operating System :: OS Independent\",\n",
      "]\n",
      "dependencies = [\n",
      "    # Add your package dependencies here\n",
      "]\n",
      "\n",
      "[project.urls]\n",
      "\"Homepage\" = \"https://github.com/rjlucas92/python-boilerplate\"\n",
      "\"Bug Tracker\" = \"https://github.com/rjlucas92/python-boilerplate/issues\"\n",
      "\"Repository\" = \"https://github.com/rjlucas92/python-boilerplate\"\n",
      "\n",
      "[tool.setuptools.dynamic]\n",
      "version = {attr = \"python_boilerplate.version.__VERSION__\"}\n",
      "\n",
      "[tool.setuptools.packages.find]\n",
      "where = [\".\"]\n",
      "include = [\"python_boilerplate*\"]\n",
      "exclude = [\"tests*\"]\n",
      "\n",
      "# Optional: Development dependencies\n",
      "[project.optional-dependencies]\n",
      "dev = [\n",
      "    \"pytest\",\"black\"\n",
      "]\n",
      "test = [\n",
      "    \"pytest\",\n",
      "]\n",
      "\n",
      "# Optional: Black formatter configuration\n",
      "[tool.black]\n",
      "line-length = 88\n",
      "target-version = [\"py313\"]\n",
      "\n",
      "# Optional: pytest configuration\n",
      "[tool.pytest.ini_options]\n",
      "testpaths = [\"tests\"]\n",
      "python_files = [\"test_*.py\", \"*_test.py\"]\n"
     ]
    }
   ],
   "source": [
    "env = Environment(\n",
    "    loader=FileSystemLoader('./templates'),\n",
    "    autoescape=select_autoescape()\n",
    ")\n",
    "print(env.get_template('pyproject.toml.jinja').render())"
   ]
  },
  {
   "cell_type": "code",
   "execution_count": null,
   "id": "1219879e",
   "metadata": {},
   "outputs": [],
   "source": []
  },
  {
   "cell_type": "code",
   "execution_count": null,
   "id": "0d1c166a",
   "metadata": {},
   "outputs": [],
   "source": []
  }
 ],
 "metadata": {
  "kernelspec": {
   "display_name": "python-template",
   "language": "python",
   "name": "python3"
  },
  "language_info": {
   "codemirror_mode": {
    "name": "ipython",
    "version": 3
   },
   "file_extension": ".py",
   "mimetype": "text/x-python",
   "name": "python",
   "nbconvert_exporter": "python",
   "pygments_lexer": "ipython3",
   "version": "3.13.5"
  }
 },
 "nbformat": 4,
 "nbformat_minor": 5
}
